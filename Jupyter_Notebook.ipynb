{
 "cells": [
  {
   "cell_type": "code",
   "execution_count": 1,
   "id": "f791dd0f",
   "metadata": {},
   "outputs": [],
   "source": [
    "import pandas as pd"
   ]
  },
  {
   "cell_type": "code",
   "execution_count": 2,
   "id": "dd42a261",
   "metadata": {},
   "outputs": [],
   "source": [
    "df = pd.read_csv('Bookings-100000-Rows.csv')"
   ]
  },
  {
   "cell_type": "code",
   "execution_count": 3,
   "id": "f69c9030",
   "metadata": {},
   "outputs": [
    {
     "data": {
      "text/plain": [
       "Index(['Date', 'Time', 'Booking_ID', 'Booking_Status', 'Customer_ID',\n",
       "       'Vehicle_Type', 'Pickup_Location', 'Drop_Location', 'V_TAT', 'C_TAT',\n",
       "       'Canceled_Rides_by_Customer', 'Canceled_Rides_by_Driver',\n",
       "       'Incomplete_Rides', 'Incomplete_Rides_Reason', 'Booking_Value',\n",
       "       'Payment_Method', 'Ride_Distance', 'Driver_Ratings', 'Customer_Rating',\n",
       "       'Vehicle Images', 'Unnamed: 20'],\n",
       "      dtype='object')"
      ]
     },
     "execution_count": 3,
     "metadata": {},
     "output_type": "execute_result"
    }
   ],
   "source": [
    "df.columns"
   ]
  },
  {
   "cell_type": "code",
   "execution_count": 5,
   "id": "f40aad93",
   "metadata": {},
   "outputs": [],
   "source": [
    "df.columns = df.columns.str.lower()"
   ]
  },
  {
   "cell_type": "code",
   "execution_count": 8,
   "id": "44b4605b",
   "metadata": {},
   "outputs": [
    {
     "data": {
      "text/html": [
       "<div>\n",
       "<style scoped>\n",
       "    .dataframe tbody tr th:only-of-type {\n",
       "        vertical-align: middle;\n",
       "    }\n",
       "\n",
       "    .dataframe tbody tr th {\n",
       "        vertical-align: top;\n",
       "    }\n",
       "\n",
       "    .dataframe thead th {\n",
       "        text-align: right;\n",
       "    }\n",
       "</style>\n",
       "<table border=\"1\" class=\"dataframe\">\n",
       "  <thead>\n",
       "    <tr style=\"text-align: right;\">\n",
       "      <th></th>\n",
       "      <th>date</th>\n",
       "      <th>time</th>\n",
       "      <th>booking_id</th>\n",
       "      <th>booking_status</th>\n",
       "      <th>customer_id</th>\n",
       "      <th>vehicle_type</th>\n",
       "      <th>pickup_location</th>\n",
       "      <th>drop_location</th>\n",
       "      <th>v_tat</th>\n",
       "      <th>c_tat</th>\n",
       "      <th>...</th>\n",
       "      <th>canceled_rides_by_driver</th>\n",
       "      <th>incomplete_rides</th>\n",
       "      <th>incomplete_rides_reason</th>\n",
       "      <th>booking_value</th>\n",
       "      <th>payment_method</th>\n",
       "      <th>ride_distance</th>\n",
       "      <th>driver_ratings</th>\n",
       "      <th>customer_rating</th>\n",
       "      <th>vehicle images</th>\n",
       "      <th>unnamed: 20</th>\n",
       "    </tr>\n",
       "  </thead>\n",
       "  <tbody>\n",
       "    <tr>\n",
       "      <th>0</th>\n",
       "      <td>2024-07-26 14:00:00</td>\n",
       "      <td>14:00:00</td>\n",
       "      <td>CNR7153255142</td>\n",
       "      <td>Canceled by Driver</td>\n",
       "      <td>CID713523</td>\n",
       "      <td>Prime Sedan</td>\n",
       "      <td>Tumkur Road</td>\n",
       "      <td>RT Nagar</td>\n",
       "      <td>NaN</td>\n",
       "      <td>NaN</td>\n",
       "      <td>...</td>\n",
       "      <td>Personal &amp; Car related issue</td>\n",
       "      <td>NaN</td>\n",
       "      <td>NaN</td>\n",
       "      <td>444</td>\n",
       "      <td>NaN</td>\n",
       "      <td>0</td>\n",
       "      <td>NaN</td>\n",
       "      <td>NaN</td>\n",
       "      <td>#NAME?</td>\n",
       "      <td>NaN</td>\n",
       "    </tr>\n",
       "    <tr>\n",
       "      <th>1</th>\n",
       "      <td>2024-07-25 22:20:00</td>\n",
       "      <td>22:20:00</td>\n",
       "      <td>CNR2940424040</td>\n",
       "      <td>Success</td>\n",
       "      <td>CID225428</td>\n",
       "      <td>Bike</td>\n",
       "      <td>Magadi Road</td>\n",
       "      <td>Varthur</td>\n",
       "      <td>203.0</td>\n",
       "      <td>30.0</td>\n",
       "      <td>...</td>\n",
       "      <td>NaN</td>\n",
       "      <td>No</td>\n",
       "      <td>NaN</td>\n",
       "      <td>158</td>\n",
       "      <td>Cash</td>\n",
       "      <td>13</td>\n",
       "      <td>4.1</td>\n",
       "      <td>4.0</td>\n",
       "      <td>#NAME?</td>\n",
       "      <td>NaN</td>\n",
       "    </tr>\n",
       "    <tr>\n",
       "      <th>2</th>\n",
       "      <td>2024-07-30 19:59:00</td>\n",
       "      <td>19:59:00</td>\n",
       "      <td>CNR2982357879</td>\n",
       "      <td>Success</td>\n",
       "      <td>CID270156</td>\n",
       "      <td>Prime SUV</td>\n",
       "      <td>Sahakar Nagar</td>\n",
       "      <td>Varthur</td>\n",
       "      <td>238.0</td>\n",
       "      <td>130.0</td>\n",
       "      <td>...</td>\n",
       "      <td>NaN</td>\n",
       "      <td>No</td>\n",
       "      <td>NaN</td>\n",
       "      <td>386</td>\n",
       "      <td>UPI</td>\n",
       "      <td>40</td>\n",
       "      <td>4.2</td>\n",
       "      <td>4.8</td>\n",
       "      <td>#NAME?</td>\n",
       "      <td>NaN</td>\n",
       "    </tr>\n",
       "    <tr>\n",
       "      <th>3</th>\n",
       "      <td>2024-07-22 3:15:00</td>\n",
       "      <td>03:15:00</td>\n",
       "      <td>CNR2395710036</td>\n",
       "      <td>Canceled by Customer</td>\n",
       "      <td>CID581320</td>\n",
       "      <td>eBike</td>\n",
       "      <td>HSR Layout</td>\n",
       "      <td>Vijayanagar</td>\n",
       "      <td>NaN</td>\n",
       "      <td>NaN</td>\n",
       "      <td>...</td>\n",
       "      <td>NaN</td>\n",
       "      <td>NaN</td>\n",
       "      <td>NaN</td>\n",
       "      <td>384</td>\n",
       "      <td>NaN</td>\n",
       "      <td>0</td>\n",
       "      <td>NaN</td>\n",
       "      <td>NaN</td>\n",
       "      <td>#NAME?</td>\n",
       "      <td>NaN</td>\n",
       "    </tr>\n",
       "    <tr>\n",
       "      <th>4</th>\n",
       "      <td>2024-07-02 9:02:00</td>\n",
       "      <td>09:02:00</td>\n",
       "      <td>CNR1797421769</td>\n",
       "      <td>Success</td>\n",
       "      <td>CID939555</td>\n",
       "      <td>Mini</td>\n",
       "      <td>Rajajinagar</td>\n",
       "      <td>Chamarajpet</td>\n",
       "      <td>252.0</td>\n",
       "      <td>80.0</td>\n",
       "      <td>...</td>\n",
       "      <td>NaN</td>\n",
       "      <td>No</td>\n",
       "      <td>NaN</td>\n",
       "      <td>822</td>\n",
       "      <td>Credit Card</td>\n",
       "      <td>45</td>\n",
       "      <td>4.0</td>\n",
       "      <td>3.0</td>\n",
       "      <td>#NAME?</td>\n",
       "      <td>NaN</td>\n",
       "    </tr>\n",
       "  </tbody>\n",
       "</table>\n",
       "<p>5 rows × 21 columns</p>\n",
       "</div>"
      ],
      "text/plain": [
       "                  date      time     booking_id        booking_status  \\\n",
       "0  2024-07-26 14:00:00  14:00:00  CNR7153255142    Canceled by Driver   \n",
       "1  2024-07-25 22:20:00  22:20:00  CNR2940424040               Success   \n",
       "2  2024-07-30 19:59:00  19:59:00  CNR2982357879               Success   \n",
       "3   2024-07-22 3:15:00  03:15:00  CNR2395710036  Canceled by Customer   \n",
       "4   2024-07-02 9:02:00  09:02:00  CNR1797421769               Success   \n",
       "\n",
       "  customer_id vehicle_type pickup_location drop_location  v_tat  c_tat  ...  \\\n",
       "0   CID713523  Prime Sedan     Tumkur Road      RT Nagar    NaN    NaN  ...   \n",
       "1   CID225428         Bike     Magadi Road       Varthur  203.0   30.0  ...   \n",
       "2   CID270156    Prime SUV   Sahakar Nagar       Varthur  238.0  130.0  ...   \n",
       "3   CID581320        eBike      HSR Layout   Vijayanagar    NaN    NaN  ...   \n",
       "4   CID939555         Mini     Rajajinagar   Chamarajpet  252.0   80.0  ...   \n",
       "\n",
       "       canceled_rides_by_driver incomplete_rides incomplete_rides_reason  \\\n",
       "0  Personal & Car related issue              NaN                     NaN   \n",
       "1                           NaN               No                     NaN   \n",
       "2                           NaN               No                     NaN   \n",
       "3                           NaN              NaN                     NaN   \n",
       "4                           NaN               No                     NaN   \n",
       "\n",
       "  booking_value  payment_method ride_distance  driver_ratings  \\\n",
       "0           444             NaN             0             NaN   \n",
       "1           158            Cash            13             4.1   \n",
       "2           386             UPI            40             4.2   \n",
       "3           384             NaN             0             NaN   \n",
       "4           822     Credit Card            45             4.0   \n",
       "\n",
       "   customer_rating  vehicle images unnamed: 20  \n",
       "0              NaN          #NAME?         NaN  \n",
       "1              4.0          #NAME?         NaN  \n",
       "2              4.8          #NAME?         NaN  \n",
       "3              NaN          #NAME?         NaN  \n",
       "4              3.0          #NAME?         NaN  \n",
       "\n",
       "[5 rows x 21 columns]"
      ]
     },
     "execution_count": 8,
     "metadata": {},
     "output_type": "execute_result"
    }
   ],
   "source": [
    "df.head()"
   ]
  },
  {
   "cell_type": "code",
   "execution_count": 6,
   "id": "53204672",
   "metadata": {},
   "outputs": [
    {
     "data": {
      "text/plain": [
       "Index(['date', 'time', 'booking_id', 'booking_status', 'customer_id',\n",
       "       'vehicle_type', 'pickup_location', 'drop_location', 'v_tat', 'c_tat',\n",
       "       'canceled_rides_by_customer', 'canceled_rides_by_driver',\n",
       "       'incomplete_rides', 'incomplete_rides_reason', 'booking_value',\n",
       "       'payment_method', 'ride_distance', 'driver_ratings', 'customer_rating',\n",
       "       'vehicle images', 'unnamed: 20'],\n",
       "      dtype='object')"
      ]
     },
     "execution_count": 6,
     "metadata": {},
     "output_type": "execute_result"
    }
   ],
   "source": [
    "df.columns"
   ]
  },
  {
   "cell_type": "code",
   "execution_count": 7,
   "id": "703d60f5",
   "metadata": {},
   "outputs": [
    {
     "data": {
      "text/plain": [
       "24"
      ]
     },
     "execution_count": 7,
     "metadata": {},
     "output_type": "execute_result"
    }
   ],
   "source": [
    "from sqlalchemy import create_engine\n",
    "\n",
    "# Assuming df is your cleaned DataFrame\n",
    "username = 'postgres'\n",
    "password = 'pgadmin4'\n",
    "host = 'localhost'\n",
    "port = '5432'\n",
    "database = 'ola'\n",
    "\n",
    "engine = create_engine(f'postgresql+psycopg2://{username}:{password}@{host}:{port}/{database}')\n",
    "\n",
    "df.to_sql('ola', engine, if_exists='append', index=False)\n"
   ]
  }
 ],
 "metadata": {
  "kernelspec": {
   "display_name": "Python 3",
   "language": "python",
   "name": "python3"
  },
  "language_info": {
   "codemirror_mode": {
    "name": "ipython",
    "version": 3
   },
   "file_extension": ".py",
   "mimetype": "text/x-python",
   "name": "python",
   "nbconvert_exporter": "python",
   "pygments_lexer": "ipython3",
   "version": "3.13.2"
  }
 },
 "nbformat": 4,
 "nbformat_minor": 5
}
